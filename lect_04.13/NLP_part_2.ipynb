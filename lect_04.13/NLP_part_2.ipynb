{
 "cells": [
  {
   "cell_type": "code",
   "execution_count": 1,
   "metadata": {
    "collapsed": true
   },
   "outputs": [],
   "source": [
    "import warnings\n",
    "warnings.filterwarnings('ignore')\n",
    "import numpy as np\n",
    "import pandas as pd\n",
    "import json\n",
    "\n",
    "from sklearn.preprocessing import LabelEncoder\n",
    "\n",
    "\n",
    "import seaborn as sn\n",
    "from pylab import rcParams      \n",
    "rcParams['figure.figsize'] = 8, 8\n",
    "import seaborn as sns\n",
    "import matplotlib.pyplot as plt\n",
    "plt.style.use(\"ggplot\")\n",
    "%matplotlib inline"
   ]
  },
  {
   "cell_type": "code",
   "execution_count": 2,
   "metadata": {
    "collapsed": true
   },
   "outputs": [],
   "source": [
    "from sklearn.model_selection import StratifiedKFold, train_test_split, RandomizedSearchCV\n",
    "from sklearn.metrics import classification_report, confusion_matrix, accuracy_score"
   ]
  },
  {
   "cell_type": "markdown",
   "metadata": {},
   "source": [
    "###  Часть 1. Описание набора данных и признаков"
   ]
  },
  {
   "cell_type": "code",
   "execution_count": 28,
   "metadata": {
    "collapsed": true
   },
   "outputs": [],
   "source": [
    "f_name=['target', 'id', 'data', 'query', 'user', 'description']"
   ]
  },
  {
   "cell_type": "code",
   "execution_count": 70,
   "metadata": {},
   "outputs": [],
   "source": [
    "memes = pd.read_csv('testdata.csv', names=f_name) #, index_col=\"id\")"
   ]
  },
  {
   "cell_type": "code",
   "execution_count": 71,
   "metadata": {},
   "outputs": [
    {
     "data": {
      "text/html": [
       "<div>\n",
       "<style scoped>\n",
       "    .dataframe tbody tr th:only-of-type {\n",
       "        vertical-align: middle;\n",
       "    }\n",
       "\n",
       "    .dataframe tbody tr th {\n",
       "        vertical-align: top;\n",
       "    }\n",
       "\n",
       "    .dataframe thead th {\n",
       "        text-align: right;\n",
       "    }\n",
       "</style>\n",
       "<table border=\"1\" class=\"dataframe\">\n",
       "  <thead>\n",
       "    <tr style=\"text-align: right;\">\n",
       "      <th></th>\n",
       "      <th>target</th>\n",
       "      <th>data</th>\n",
       "      <th>query</th>\n",
       "      <th>user</th>\n",
       "      <th>description</th>\n",
       "    </tr>\n",
       "  </thead>\n",
       "  <tbody>\n",
       "    <tr>\n",
       "      <th>0</th>\n",
       "      <td>4</td>\n",
       "      <td>Mon May 11 03:17:40 UTC 2009</td>\n",
       "      <td>kindle2</td>\n",
       "      <td>tpryan</td>\n",
       "      <td>@stellargirl I loooooooovvvvvveee my Kindle2. ...</td>\n",
       "    </tr>\n",
       "    <tr>\n",
       "      <th>1</th>\n",
       "      <td>4</td>\n",
       "      <td>Mon May 11 03:18:03 UTC 2009</td>\n",
       "      <td>kindle2</td>\n",
       "      <td>vcu451</td>\n",
       "      <td>Reading my kindle2...  Love it... Lee childs i...</td>\n",
       "    </tr>\n",
       "    <tr>\n",
       "      <th>2</th>\n",
       "      <td>4</td>\n",
       "      <td>Mon May 11 03:18:54 UTC 2009</td>\n",
       "      <td>kindle2</td>\n",
       "      <td>chadfu</td>\n",
       "      <td>Ok, first assesment of the #kindle2 ...it fuck...</td>\n",
       "    </tr>\n",
       "    <tr>\n",
       "      <th>3</th>\n",
       "      <td>4</td>\n",
       "      <td>Mon May 11 03:19:04 UTC 2009</td>\n",
       "      <td>kindle2</td>\n",
       "      <td>SIX15</td>\n",
       "      <td>@kenburbary You'll love your Kindle2. I've had...</td>\n",
       "    </tr>\n",
       "    <tr>\n",
       "      <th>4</th>\n",
       "      <td>4</td>\n",
       "      <td>Mon May 11 03:21:41 UTC 2009</td>\n",
       "      <td>kindle2</td>\n",
       "      <td>yamarama</td>\n",
       "      <td>@mikefish  Fair enough. But i have the Kindle2...</td>\n",
       "    </tr>\n",
       "    <tr>\n",
       "      <th>5</th>\n",
       "      <td>4</td>\n",
       "      <td>Mon May 11 03:22:00 UTC 2009</td>\n",
       "      <td>kindle2</td>\n",
       "      <td>GeorgeVHulme</td>\n",
       "      <td>@richardebaker no. it is too big. I'm quite ha...</td>\n",
       "    </tr>\n",
       "    <tr>\n",
       "      <th>6</th>\n",
       "      <td>0</td>\n",
       "      <td>Mon May 11 03:22:30 UTC 2009</td>\n",
       "      <td>aig</td>\n",
       "      <td>Seth937</td>\n",
       "      <td>Fuck this economy. I hate aig and their non lo...</td>\n",
       "    </tr>\n",
       "    <tr>\n",
       "      <th>7</th>\n",
       "      <td>4</td>\n",
       "      <td>Mon May 11 03:26:10 UTC 2009</td>\n",
       "      <td>jquery</td>\n",
       "      <td>dcostalis</td>\n",
       "      <td>Jquery is my new best friend.</td>\n",
       "    </tr>\n",
       "    <tr>\n",
       "      <th>8</th>\n",
       "      <td>4</td>\n",
       "      <td>Mon May 11 03:27:15 UTC 2009</td>\n",
       "      <td>twitter</td>\n",
       "      <td>PJ_King</td>\n",
       "      <td>Loves twitter</td>\n",
       "    </tr>\n",
       "    <tr>\n",
       "      <th>9</th>\n",
       "      <td>4</td>\n",
       "      <td>Mon May 11 03:29:20 UTC 2009</td>\n",
       "      <td>obama</td>\n",
       "      <td>mandanicole</td>\n",
       "      <td>how can you not love Obama? he makes jokes abo...</td>\n",
       "    </tr>\n",
       "    <tr>\n",
       "      <th>10</th>\n",
       "      <td>2</td>\n",
       "      <td>Mon May 11 03:32:42 UTC 2009</td>\n",
       "      <td>obama</td>\n",
       "      <td>jpeb</td>\n",
       "      <td>Check this video out -- President Obama at the...</td>\n",
       "    </tr>\n",
       "    <tr>\n",
       "      <th>11</th>\n",
       "      <td>0</td>\n",
       "      <td>Mon May 11 03:32:48 UTC 2009</td>\n",
       "      <td>obama</td>\n",
       "      <td>kylesellers</td>\n",
       "      <td>@Karoli I firmly believe that Obama/Pelosi hav...</td>\n",
       "    </tr>\n",
       "    <tr>\n",
       "      <th>12</th>\n",
       "      <td>4</td>\n",
       "      <td>Mon May 11 03:33:38 UTC 2009</td>\n",
       "      <td>obama</td>\n",
       "      <td>theviewfans</td>\n",
       "      <td>House Correspondents dinner was last night who...</td>\n",
       "    </tr>\n",
       "    <tr>\n",
       "      <th>13</th>\n",
       "      <td>4</td>\n",
       "      <td>Mon May 11 05:05:58 UTC 2009</td>\n",
       "      <td>nike</td>\n",
       "      <td>MumsFP</td>\n",
       "      <td>Watchin Espn..Jus seen this new Nike Commerica...</td>\n",
       "    </tr>\n",
       "    <tr>\n",
       "      <th>14</th>\n",
       "      <td>0</td>\n",
       "      <td>Mon May 11 05:06:22 UTC 2009</td>\n",
       "      <td>nike</td>\n",
       "      <td>vincentx24x</td>\n",
       "      <td>dear nike, stop with the flywire. that shit is...</td>\n",
       "    </tr>\n",
       "    <tr>\n",
       "      <th>15</th>\n",
       "      <td>4</td>\n",
       "      <td>Mon May 11 05:20:15 UTC 2009</td>\n",
       "      <td>lebron</td>\n",
       "      <td>cameronwylie</td>\n",
       "      <td>#lebron best athlete of our generation, if not...</td>\n",
       "    </tr>\n",
       "    <tr>\n",
       "      <th>16</th>\n",
       "      <td>0</td>\n",
       "      <td>Mon May 11 05:20:28 UTC 2009</td>\n",
       "      <td>lebron</td>\n",
       "      <td>luv8242</td>\n",
       "      <td>I was talking to this guy last night and he wa...</td>\n",
       "    </tr>\n",
       "    <tr>\n",
       "      <th>17</th>\n",
       "      <td>4</td>\n",
       "      <td>Mon May 11 05:21:04 UTC 2009</td>\n",
       "      <td>lebron</td>\n",
       "      <td>mtgillikin</td>\n",
       "      <td>i love lebron. http://bit.ly/PdHur</td>\n",
       "    </tr>\n",
       "    <tr>\n",
       "      <th>18</th>\n",
       "      <td>0</td>\n",
       "      <td>Mon May 11 05:21:37 UTC 2009</td>\n",
       "      <td>lebron</td>\n",
       "      <td>ursecretdezire</td>\n",
       "      <td>@ludajuice Lebron is a Beast, but I'm still ch...</td>\n",
       "    </tr>\n",
       "    <tr>\n",
       "      <th>19</th>\n",
       "      <td>4</td>\n",
       "      <td>Mon May 11 05:21:45 UTC 2009</td>\n",
       "      <td>lebron</td>\n",
       "      <td>Native_01</td>\n",
       "      <td>@Pmillzz lebron IS THE BOSS</td>\n",
       "    </tr>\n",
       "    <tr>\n",
       "      <th>20</th>\n",
       "      <td>4</td>\n",
       "      <td>Mon May 11 05:22:03 UTC 2009</td>\n",
       "      <td>lebron</td>\n",
       "      <td>princezzcutz</td>\n",
       "      <td>@sketchbug Lebron is a hometown hero to me, lo...</td>\n",
       "    </tr>\n",
       "    <tr>\n",
       "      <th>21</th>\n",
       "      <td>4</td>\n",
       "      <td>Mon May 11 05:22:12 UTC 2009</td>\n",
       "      <td>lebron</td>\n",
       "      <td>peterlikewhat</td>\n",
       "      <td>lebron and zydrunas are such an awesome duo</td>\n",
       "    </tr>\n",
       "    <tr>\n",
       "      <th>22</th>\n",
       "      <td>4</td>\n",
       "      <td>Mon May 11 05:22:37 UTC 2009</td>\n",
       "      <td>lebron</td>\n",
       "      <td>emceet</td>\n",
       "      <td>@wordwhizkid Lebron is a beast... nobody in th...</td>\n",
       "    </tr>\n",
       "    <tr>\n",
       "      <th>23</th>\n",
       "      <td>4</td>\n",
       "      <td>Mon May 11 06:02:24 UTC 2009</td>\n",
       "      <td>iphone app</td>\n",
       "      <td>CocoSavanna</td>\n",
       "      <td>downloading apps for my iphone! So much fun :-...</td>\n",
       "    </tr>\n",
       "    <tr>\n",
       "      <th>24</th>\n",
       "      <td>4</td>\n",
       "      <td>Mon May 11 19:47:29 UTC 2009</td>\n",
       "      <td>visa</td>\n",
       "      <td>DreambigRadio</td>\n",
       "      <td>good news, just had a call from the Visa offic...</td>\n",
       "    </tr>\n",
       "    <tr>\n",
       "      <th>25</th>\n",
       "      <td>4</td>\n",
       "      <td>Mon May 11 19:49:21 UTC 2009</td>\n",
       "      <td>fredwilson</td>\n",
       "      <td>andrewwatson</td>\n",
       "      <td>http://twurl.nl/epkr4b - awesome come back fro...</td>\n",
       "    </tr>\n",
       "    <tr>\n",
       "      <th>26</th>\n",
       "      <td>4</td>\n",
       "      <td>Mon May 11 19:50:07 UTC 2009</td>\n",
       "      <td>fredwilson</td>\n",
       "      <td>fredwilson</td>\n",
       "      <td>In montreal for a long weekend of R&amp;amp;R. Muc...</td>\n",
       "    </tr>\n",
       "    <tr>\n",
       "      <th>27</th>\n",
       "      <td>4</td>\n",
       "      <td>Thu May 14 02:58:07 UTC 2009</td>\n",
       "      <td>\"booz allen\"</td>\n",
       "      <td>JoeSchueller</td>\n",
       "      <td>Booz Allen Hamilton has a bad ass homegrown so...</td>\n",
       "    </tr>\n",
       "    <tr>\n",
       "      <th>28</th>\n",
       "      <td>4</td>\n",
       "      <td>Thu May 14 02:58:23 UTC 2009</td>\n",
       "      <td>\"booz allen\"</td>\n",
       "      <td>scottabel</td>\n",
       "      <td>[#MLUC09] Customer Innovation Award Winner: Bo...</td>\n",
       "    </tr>\n",
       "    <tr>\n",
       "      <th>29</th>\n",
       "      <td>4</td>\n",
       "      <td>Thu May 14 05:24:50 UTC 2009</td>\n",
       "      <td>40d</td>\n",
       "      <td>JustMe_D</td>\n",
       "      <td>@SoChi2 I current use the Nikon D90 and love i...</td>\n",
       "    </tr>\n",
       "    <tr>\n",
       "      <th>...</th>\n",
       "      <td>...</td>\n",
       "      <td>...</td>\n",
       "      <td>...</td>\n",
       "      <td>...</td>\n",
       "      <td>...</td>\n",
       "    </tr>\n",
       "    <tr>\n",
       "      <th>468</th>\n",
       "      <td>0</td>\n",
       "      <td>Tue Jun 09 05:53:40 UTC 2009</td>\n",
       "      <td>iphone app</td>\n",
       "      <td>Jesssssii</td>\n",
       "      <td>Man I kinda dislike Apple right now. Case in p...</td>\n",
       "    </tr>\n",
       "    <tr>\n",
       "      <th>469</th>\n",
       "      <td>4</td>\n",
       "      <td>Wed Jun 10 04:03:37 UTC 2009</td>\n",
       "      <td>kindle2</td>\n",
       "      <td>jimhong</td>\n",
       "      <td>@cwong08 I have a Kindle2 (&amp;amp; Sony PRS-500)...</td>\n",
       "    </tr>\n",
       "    <tr>\n",
       "      <th>470</th>\n",
       "      <td>4</td>\n",
       "      <td>Wed Jun 10 04:03:53 UTC 2009</td>\n",
       "      <td>kindle2</td>\n",
       "      <td>Ant_Ward</td>\n",
       "      <td>The #Kindle2 seems the best eReader, but will ...</td>\n",
       "    </tr>\n",
       "    <tr>\n",
       "      <th>471</th>\n",
       "      <td>4</td>\n",
       "      <td>Wed Jun 10 05:24:40 UTC 2009</td>\n",
       "      <td>google</td>\n",
       "      <td>popitlockit</td>\n",
       "      <td>I have a google addiction. Thank you for point...</td>\n",
       "    </tr>\n",
       "    <tr>\n",
       "      <th>472</th>\n",
       "      <td>2</td>\n",
       "      <td>Wed Jun 10 15:31:56 UTC 2009</td>\n",
       "      <td>visa card</td>\n",
       "      <td>FionaSarah</td>\n",
       "      <td>@ruby_gem My primary debit card is Visa Electron.</td>\n",
       "    </tr>\n",
       "    <tr>\n",
       "      <th>473</th>\n",
       "      <td>2</td>\n",
       "      <td>Wed Jun 10 15:31:59 UTC 2009</td>\n",
       "      <td>visa card</td>\n",
       "      <td>MalloryRayne</td>\n",
       "      <td>Off to the bank to get my new visa platinum card</td>\n",
       "    </tr>\n",
       "    <tr>\n",
       "      <th>474</th>\n",
       "      <td>0</td>\n",
       "      <td>Wed Jun 10 15:32:06 UTC 2009</td>\n",
       "      <td>visa card</td>\n",
       "      <td>_abi_</td>\n",
       "      <td>dearest @google, you rich bastards! the VISA c...</td>\n",
       "    </tr>\n",
       "    <tr>\n",
       "      <th>475</th>\n",
       "      <td>2</td>\n",
       "      <td>Sat Jun 13 16:23:31 UTC 2009</td>\n",
       "      <td>Bobby Flay</td>\n",
       "      <td>sfkerropi6</td>\n",
       "      <td>has a date with bobby flay and gut fieri from ...</td>\n",
       "    </tr>\n",
       "    <tr>\n",
       "      <th>476</th>\n",
       "      <td>4</td>\n",
       "      <td>Sat Jun 13 16:24:08 UTC 2009</td>\n",
       "      <td>Bobby Flay</td>\n",
       "      <td>tessalau</td>\n",
       "      <td>Excited about seeing Bobby Flay and Guy Fieri ...</td>\n",
       "    </tr>\n",
       "    <tr>\n",
       "      <th>477</th>\n",
       "      <td>4</td>\n",
       "      <td>Sat Jun 13 16:24:12 UTC 2009</td>\n",
       "      <td>Bobby Flay</td>\n",
       "      <td>ZFilth</td>\n",
       "      <td>Gonna go see Bobby Flay 2moro at Shoreline. Ea...</td>\n",
       "    </tr>\n",
       "    <tr>\n",
       "      <th>478</th>\n",
       "      <td>4</td>\n",
       "      <td>Sat Jun 13 16:24:25 UTC 2009</td>\n",
       "      <td>Bobby Flay</td>\n",
       "      <td>annieblane</td>\n",
       "      <td>can't wait for the great american food and mus...</td>\n",
       "    </tr>\n",
       "    <tr>\n",
       "      <th>479</th>\n",
       "      <td>4</td>\n",
       "      <td>Sat Jun 13 16:24:34 UTC 2009</td>\n",
       "      <td>Bobby Flay</td>\n",
       "      <td>LAURAcBRYAN</td>\n",
       "      <td>My dad was in NY for a day, we ate at MESA gri...</td>\n",
       "    </tr>\n",
       "    <tr>\n",
       "      <th>480</th>\n",
       "      <td>0</td>\n",
       "      <td>Sun Jun 14 04:35:33 UTC 2009</td>\n",
       "      <td>latex</td>\n",
       "      <td>NathanChalmers</td>\n",
       "      <td>Fighting with LaTex. Again...</td>\n",
       "    </tr>\n",
       "    <tr>\n",
       "      <th>481</th>\n",
       "      <td>0</td>\n",
       "      <td>Sun Jun 14 04:35:53 UTC 2009</td>\n",
       "      <td>latex</td>\n",
       "      <td>LoonyLongbottom</td>\n",
       "      <td>@Iheartseverus we love you too and don't want ...</td>\n",
       "    </tr>\n",
       "    <tr>\n",
       "      <th>482</th>\n",
       "      <td>0</td>\n",
       "      <td>Sun Jun 14 04:36:07 UTC 2009</td>\n",
       "      <td>latex</td>\n",
       "      <td>QuadError</td>\n",
       "      <td>7 hours. 7 hours of inkscape crashing, normall...</td>\n",
       "    </tr>\n",
       "    <tr>\n",
       "      <th>483</th>\n",
       "      <td>2</td>\n",
       "      <td>Sun Jun 14 21:35:58 UTC 2009</td>\n",
       "      <td>iran</td>\n",
       "      <td>musicmuse</td>\n",
       "      <td>How to Track Iran with Social Media: http://bi...</td>\n",
       "    </tr>\n",
       "    <tr>\n",
       "      <th>484</th>\n",
       "      <td>0</td>\n",
       "      <td>Sun Jun 14 21:36:04 UTC 2009</td>\n",
       "      <td>iran</td>\n",
       "      <td>sketoaks</td>\n",
       "      <td>Shit's hitting the fan in Iran...craziness ind...</td>\n",
       "    </tr>\n",
       "    <tr>\n",
       "      <th>485</th>\n",
       "      <td>0</td>\n",
       "      <td>Sun Jun 14 21:36:09 UTC 2009</td>\n",
       "      <td>iran</td>\n",
       "      <td>jamespenycate</td>\n",
       "      <td>Monday already. Iran may implode. Kitchen is a...</td>\n",
       "    </tr>\n",
       "    <tr>\n",
       "      <th>486</th>\n",
       "      <td>2</td>\n",
       "      <td>Sat Jun 13 16:13:59 UTC 2009</td>\n",
       "      <td>aapl</td>\n",
       "      <td>boardcentral</td>\n",
       "      <td>Twitter Stock buzz: $AAPL $ES_F $SPY $SPX $PAL...</td>\n",
       "    </tr>\n",
       "    <tr>\n",
       "      <th>487</th>\n",
       "      <td>4</td>\n",
       "      <td>Sat Jun 13 16:23:41 UTC 2009</td>\n",
       "      <td>Bobby Flay</td>\n",
       "      <td>JimFacey</td>\n",
       "      <td>getting ready to test out some burger receipes...</td>\n",
       "    </tr>\n",
       "    <tr>\n",
       "      <th>488</th>\n",
       "      <td>2</td>\n",
       "      <td>Sat Jun 13 16:24:03 UTC 2009</td>\n",
       "      <td>Bobby Flay</td>\n",
       "      <td>wetfishdesigns</td>\n",
       "      <td>@johncmayer is Bobby Flay joining you?</td>\n",
       "    </tr>\n",
       "    <tr>\n",
       "      <th>489</th>\n",
       "      <td>4</td>\n",
       "      <td>Sat Jun 13 16:24:15 UTC 2009</td>\n",
       "      <td>Bobby Flay</td>\n",
       "      <td>A_TALL_BLONDE</td>\n",
       "      <td>i lam so in love with Bobby Flay... he is my f...</td>\n",
       "    </tr>\n",
       "    <tr>\n",
       "      <th>490</th>\n",
       "      <td>0</td>\n",
       "      <td>Sun Jun 14 04:31:12 UTC 2009</td>\n",
       "      <td>latex</td>\n",
       "      <td>rooney_tunes</td>\n",
       "      <td>I just created my first LaTeX file from scratc...</td>\n",
       "    </tr>\n",
       "    <tr>\n",
       "      <th>491</th>\n",
       "      <td>4</td>\n",
       "      <td>Sun Jun 14 04:31:23 UTC 2009</td>\n",
       "      <td>latex</td>\n",
       "      <td>roguemovement</td>\n",
       "      <td>using Linux and loving it - so much nicer than...</td>\n",
       "    </tr>\n",
       "    <tr>\n",
       "      <th>492</th>\n",
       "      <td>4</td>\n",
       "      <td>Sun Jun 14 04:31:28 UTC 2009</td>\n",
       "      <td>latex</td>\n",
       "      <td>yomcat</td>\n",
       "      <td>After using LaTeX a lot, any other typeset mat...</td>\n",
       "    </tr>\n",
       "    <tr>\n",
       "      <th>493</th>\n",
       "      <td>2</td>\n",
       "      <td>Sun Jun 14 04:31:43 UTC 2009</td>\n",
       "      <td>latex</td>\n",
       "      <td>proggit</td>\n",
       "      <td>Ask Programming: LaTeX or InDesign?: submitted...</td>\n",
       "    </tr>\n",
       "    <tr>\n",
       "      <th>494</th>\n",
       "      <td>0</td>\n",
       "      <td>Sun Jun 14 04:32:17 UTC 2009</td>\n",
       "      <td>latex</td>\n",
       "      <td>sam33r</td>\n",
       "      <td>On that note, I hate Word. I hate Pages. I hat...</td>\n",
       "    </tr>\n",
       "    <tr>\n",
       "      <th>495</th>\n",
       "      <td>4</td>\n",
       "      <td>Sun Jun 14 04:36:34 UTC 2009</td>\n",
       "      <td>latex</td>\n",
       "      <td>iamtheonlyjosie</td>\n",
       "      <td>Ahhh... back in a *real* text editing environm...</td>\n",
       "    </tr>\n",
       "    <tr>\n",
       "      <th>496</th>\n",
       "      <td>0</td>\n",
       "      <td>Sun Jun 14 21:36:07 UTC 2009</td>\n",
       "      <td>iran</td>\n",
       "      <td>plutopup7</td>\n",
       "      <td>Trouble in Iran, I see. Hmm. Iran. Iran so far...</td>\n",
       "    </tr>\n",
       "    <tr>\n",
       "      <th>497</th>\n",
       "      <td>0</td>\n",
       "      <td>Sun Jun 14 21:36:17 UTC 2009</td>\n",
       "      <td>iran</td>\n",
       "      <td>captain_pete</td>\n",
       "      <td>Reading the tweets coming out of Iran... The w...</td>\n",
       "    </tr>\n",
       "  </tbody>\n",
       "</table>\n",
       "<p>498 rows × 5 columns</p>\n",
       "</div>"
      ],
      "text/plain": [
       "     target                          data         query             user  \\\n",
       "0         4  Mon May 11 03:17:40 UTC 2009       kindle2           tpryan   \n",
       "1         4  Mon May 11 03:18:03 UTC 2009       kindle2           vcu451   \n",
       "2         4  Mon May 11 03:18:54 UTC 2009       kindle2           chadfu   \n",
       "3         4  Mon May 11 03:19:04 UTC 2009       kindle2            SIX15   \n",
       "4         4  Mon May 11 03:21:41 UTC 2009       kindle2         yamarama   \n",
       "5         4  Mon May 11 03:22:00 UTC 2009       kindle2     GeorgeVHulme   \n",
       "6         0  Mon May 11 03:22:30 UTC 2009           aig          Seth937   \n",
       "7         4  Mon May 11 03:26:10 UTC 2009        jquery        dcostalis   \n",
       "8         4  Mon May 11 03:27:15 UTC 2009       twitter          PJ_King   \n",
       "9         4  Mon May 11 03:29:20 UTC 2009         obama      mandanicole   \n",
       "10        2  Mon May 11 03:32:42 UTC 2009         obama             jpeb   \n",
       "11        0  Mon May 11 03:32:48 UTC 2009         obama      kylesellers   \n",
       "12        4  Mon May 11 03:33:38 UTC 2009         obama      theviewfans   \n",
       "13        4  Mon May 11 05:05:58 UTC 2009          nike           MumsFP   \n",
       "14        0  Mon May 11 05:06:22 UTC 2009          nike      vincentx24x   \n",
       "15        4  Mon May 11 05:20:15 UTC 2009        lebron     cameronwylie   \n",
       "16        0  Mon May 11 05:20:28 UTC 2009        lebron          luv8242   \n",
       "17        4  Mon May 11 05:21:04 UTC 2009        lebron       mtgillikin   \n",
       "18        0  Mon May 11 05:21:37 UTC 2009        lebron   ursecretdezire   \n",
       "19        4  Mon May 11 05:21:45 UTC 2009        lebron        Native_01   \n",
       "20        4  Mon May 11 05:22:03 UTC 2009        lebron     princezzcutz   \n",
       "21        4  Mon May 11 05:22:12 UTC 2009        lebron    peterlikewhat   \n",
       "22        4  Mon May 11 05:22:37 UTC 2009        lebron           emceet   \n",
       "23        4  Mon May 11 06:02:24 UTC 2009    iphone app      CocoSavanna   \n",
       "24        4  Mon May 11 19:47:29 UTC 2009          visa    DreambigRadio   \n",
       "25        4  Mon May 11 19:49:21 UTC 2009    fredwilson     andrewwatson   \n",
       "26        4  Mon May 11 19:50:07 UTC 2009    fredwilson       fredwilson   \n",
       "27        4  Thu May 14 02:58:07 UTC 2009  \"booz allen\"     JoeSchueller   \n",
       "28        4  Thu May 14 02:58:23 UTC 2009  \"booz allen\"        scottabel   \n",
       "29        4  Thu May 14 05:24:50 UTC 2009           40d         JustMe_D   \n",
       "..      ...                           ...           ...              ...   \n",
       "468       0  Tue Jun 09 05:53:40 UTC 2009    iphone app        Jesssssii   \n",
       "469       4  Wed Jun 10 04:03:37 UTC 2009       kindle2          jimhong   \n",
       "470       4  Wed Jun 10 04:03:53 UTC 2009       kindle2         Ant_Ward   \n",
       "471       4  Wed Jun 10 05:24:40 UTC 2009        google      popitlockit   \n",
       "472       2  Wed Jun 10 15:31:56 UTC 2009     visa card       FionaSarah   \n",
       "473       2  Wed Jun 10 15:31:59 UTC 2009     visa card     MalloryRayne   \n",
       "474       0  Wed Jun 10 15:32:06 UTC 2009     visa card            _abi_   \n",
       "475       2  Sat Jun 13 16:23:31 UTC 2009    Bobby Flay       sfkerropi6   \n",
       "476       4  Sat Jun 13 16:24:08 UTC 2009    Bobby Flay         tessalau   \n",
       "477       4  Sat Jun 13 16:24:12 UTC 2009    Bobby Flay           ZFilth   \n",
       "478       4  Sat Jun 13 16:24:25 UTC 2009    Bobby Flay       annieblane   \n",
       "479       4  Sat Jun 13 16:24:34 UTC 2009    Bobby Flay      LAURAcBRYAN   \n",
       "480       0  Sun Jun 14 04:35:33 UTC 2009         latex   NathanChalmers   \n",
       "481       0  Sun Jun 14 04:35:53 UTC 2009         latex  LoonyLongbottom   \n",
       "482       0  Sun Jun 14 04:36:07 UTC 2009         latex        QuadError   \n",
       "483       2  Sun Jun 14 21:35:58 UTC 2009          iran        musicmuse   \n",
       "484       0  Sun Jun 14 21:36:04 UTC 2009          iran         sketoaks   \n",
       "485       0  Sun Jun 14 21:36:09 UTC 2009          iran    jamespenycate   \n",
       "486       2  Sat Jun 13 16:13:59 UTC 2009          aapl     boardcentral   \n",
       "487       4  Sat Jun 13 16:23:41 UTC 2009    Bobby Flay         JimFacey   \n",
       "488       2  Sat Jun 13 16:24:03 UTC 2009    Bobby Flay   wetfishdesigns   \n",
       "489       4  Sat Jun 13 16:24:15 UTC 2009    Bobby Flay    A_TALL_BLONDE   \n",
       "490       0  Sun Jun 14 04:31:12 UTC 2009         latex     rooney_tunes   \n",
       "491       4  Sun Jun 14 04:31:23 UTC 2009         latex    roguemovement   \n",
       "492       4  Sun Jun 14 04:31:28 UTC 2009         latex           yomcat   \n",
       "493       2  Sun Jun 14 04:31:43 UTC 2009         latex          proggit   \n",
       "494       0  Sun Jun 14 04:32:17 UTC 2009         latex           sam33r   \n",
       "495       4  Sun Jun 14 04:36:34 UTC 2009         latex  iamtheonlyjosie   \n",
       "496       0  Sun Jun 14 21:36:07 UTC 2009          iran        plutopup7   \n",
       "497       0  Sun Jun 14 21:36:17 UTC 2009          iran     captain_pete   \n",
       "\n",
       "                                           description  \n",
       "0    @stellargirl I loooooooovvvvvveee my Kindle2. ...  \n",
       "1    Reading my kindle2...  Love it... Lee childs i...  \n",
       "2    Ok, first assesment of the #kindle2 ...it fuck...  \n",
       "3    @kenburbary You'll love your Kindle2. I've had...  \n",
       "4    @mikefish  Fair enough. But i have the Kindle2...  \n",
       "5    @richardebaker no. it is too big. I'm quite ha...  \n",
       "6    Fuck this economy. I hate aig and their non lo...  \n",
       "7                        Jquery is my new best friend.  \n",
       "8                                        Loves twitter  \n",
       "9    how can you not love Obama? he makes jokes abo...  \n",
       "10   Check this video out -- President Obama at the...  \n",
       "11   @Karoli I firmly believe that Obama/Pelosi hav...  \n",
       "12   House Correspondents dinner was last night who...  \n",
       "13   Watchin Espn..Jus seen this new Nike Commerica...  \n",
       "14   dear nike, stop with the flywire. that shit is...  \n",
       "15   #lebron best athlete of our generation, if not...  \n",
       "16   I was talking to this guy last night and he wa...  \n",
       "17                  i love lebron. http://bit.ly/PdHur  \n",
       "18   @ludajuice Lebron is a Beast, but I'm still ch...  \n",
       "19                         @Pmillzz lebron IS THE BOSS  \n",
       "20   @sketchbug Lebron is a hometown hero to me, lo...  \n",
       "21         lebron and zydrunas are such an awesome duo  \n",
       "22   @wordwhizkid Lebron is a beast... nobody in th...  \n",
       "23   downloading apps for my iphone! So much fun :-...  \n",
       "24   good news, just had a call from the Visa offic...  \n",
       "25   http://twurl.nl/epkr4b - awesome come back fro...  \n",
       "26   In montreal for a long weekend of R&amp;R. Muc...  \n",
       "27   Booz Allen Hamilton has a bad ass homegrown so...  \n",
       "28   [#MLUC09] Customer Innovation Award Winner: Bo...  \n",
       "29   @SoChi2 I current use the Nikon D90 and love i...  \n",
       "..                                                 ...  \n",
       "468  Man I kinda dislike Apple right now. Case in p...  \n",
       "469  @cwong08 I have a Kindle2 (&amp; Sony PRS-500)...  \n",
       "470  The #Kindle2 seems the best eReader, but will ...  \n",
       "471  I have a google addiction. Thank you for point...  \n",
       "472  @ruby_gem My primary debit card is Visa Electron.  \n",
       "473   Off to the bank to get my new visa platinum card  \n",
       "474  dearest @google, you rich bastards! the VISA c...  \n",
       "475  has a date with bobby flay and gut fieri from ...  \n",
       "476  Excited about seeing Bobby Flay and Guy Fieri ...  \n",
       "477  Gonna go see Bobby Flay 2moro at Shoreline. Ea...  \n",
       "478  can't wait for the great american food and mus...  \n",
       "479  My dad was in NY for a day, we ate at MESA gri...  \n",
       "480                      Fighting with LaTex. Again...  \n",
       "481  @Iheartseverus we love you too and don't want ...  \n",
       "482  7 hours. 7 hours of inkscape crashing, normall...  \n",
       "483  How to Track Iran with Social Media: http://bi...  \n",
       "484  Shit's hitting the fan in Iran...craziness ind...  \n",
       "485  Monday already. Iran may implode. Kitchen is a...  \n",
       "486  Twitter Stock buzz: $AAPL $ES_F $SPY $SPX $PAL...  \n",
       "487  getting ready to test out some burger receipes...  \n",
       "488             @johncmayer is Bobby Flay joining you?  \n",
       "489  i lam so in love with Bobby Flay... he is my f...  \n",
       "490  I just created my first LaTeX file from scratc...  \n",
       "491  using Linux and loving it - so much nicer than...  \n",
       "492  After using LaTeX a lot, any other typeset mat...  \n",
       "493  Ask Programming: LaTeX or InDesign?: submitted...  \n",
       "494  On that note, I hate Word. I hate Pages. I hat...  \n",
       "495  Ahhh... back in a *real* text editing environm...  \n",
       "496  Trouble in Iran, I see. Hmm. Iran. Iran so far...  \n",
       "497  Reading the tweets coming out of Iran... The w...  \n",
       "\n",
       "[498 rows x 5 columns]"
      ]
     },
     "execution_count": 71,
     "metadata": {},
     "output_type": "execute_result"
    }
   ],
   "source": [
    "memes.drop(columns=\"id\", axis=1)"
   ]
  },
  {
   "cell_type": "code",
   "execution_count": 15,
   "metadata": {},
   "outputs": [
    {
     "data": {
      "text/plain": [
       "(498, 5)"
      ]
     },
     "execution_count": 15,
     "metadata": {},
     "output_type": "execute_result"
    }
   ],
   "source": [
    "memes.shape"
   ]
  },
  {
   "cell_type": "code",
   "execution_count": 30,
   "metadata": {},
   "outputs": [
    {
     "data": {
      "text/html": [
       "<div>\n",
       "<style scoped>\n",
       "    .dataframe tbody tr th:only-of-type {\n",
       "        vertical-align: middle;\n",
       "    }\n",
       "\n",
       "    .dataframe tbody tr th {\n",
       "        vertical-align: top;\n",
       "    }\n",
       "\n",
       "    .dataframe thead th {\n",
       "        text-align: right;\n",
       "    }\n",
       "</style>\n",
       "<table border=\"1\" class=\"dataframe\">\n",
       "  <thead>\n",
       "    <tr style=\"text-align: right;\">\n",
       "      <th></th>\n",
       "      <th>target</th>\n",
       "      <th>data</th>\n",
       "      <th>query</th>\n",
       "      <th>user</th>\n",
       "      <th>description</th>\n",
       "    </tr>\n",
       "    <tr>\n",
       "      <th>id</th>\n",
       "      <th></th>\n",
       "      <th></th>\n",
       "      <th></th>\n",
       "      <th></th>\n",
       "      <th></th>\n",
       "    </tr>\n",
       "  </thead>\n",
       "  <tbody>\n",
       "    <tr>\n",
       "      <th>3</th>\n",
       "      <td>4</td>\n",
       "      <td>Mon May 11 03:17:40 UTC 2009</td>\n",
       "      <td>kindle2</td>\n",
       "      <td>tpryan</td>\n",
       "      <td>@stellargirl I loooooooovvvvvveee my Kindle2. ...</td>\n",
       "    </tr>\n",
       "    <tr>\n",
       "      <th>4</th>\n",
       "      <td>4</td>\n",
       "      <td>Mon May 11 03:18:03 UTC 2009</td>\n",
       "      <td>kindle2</td>\n",
       "      <td>vcu451</td>\n",
       "      <td>Reading my kindle2...  Love it... Lee childs i...</td>\n",
       "    </tr>\n",
       "    <tr>\n",
       "      <th>5</th>\n",
       "      <td>4</td>\n",
       "      <td>Mon May 11 03:18:54 UTC 2009</td>\n",
       "      <td>kindle2</td>\n",
       "      <td>chadfu</td>\n",
       "      <td>Ok, first assesment of the #kindle2 ...it fuck...</td>\n",
       "    </tr>\n",
       "    <tr>\n",
       "      <th>6</th>\n",
       "      <td>4</td>\n",
       "      <td>Mon May 11 03:19:04 UTC 2009</td>\n",
       "      <td>kindle2</td>\n",
       "      <td>SIX15</td>\n",
       "      <td>@kenburbary You'll love your Kindle2. I've had...</td>\n",
       "    </tr>\n",
       "    <tr>\n",
       "      <th>7</th>\n",
       "      <td>4</td>\n",
       "      <td>Mon May 11 03:21:41 UTC 2009</td>\n",
       "      <td>kindle2</td>\n",
       "      <td>yamarama</td>\n",
       "      <td>@mikefish  Fair enough. But i have the Kindle2...</td>\n",
       "    </tr>\n",
       "  </tbody>\n",
       "</table>\n",
       "</div>"
      ],
      "text/plain": [
       "    target                          data    query      user  \\\n",
       "id                                                            \n",
       "3        4  Mon May 11 03:17:40 UTC 2009  kindle2    tpryan   \n",
       "4        4  Mon May 11 03:18:03 UTC 2009  kindle2    vcu451   \n",
       "5        4  Mon May 11 03:18:54 UTC 2009  kindle2    chadfu   \n",
       "6        4  Mon May 11 03:19:04 UTC 2009  kindle2     SIX15   \n",
       "7        4  Mon May 11 03:21:41 UTC 2009  kindle2  yamarama   \n",
       "\n",
       "                                          description  \n",
       "id                                                     \n",
       "3   @stellargirl I loooooooovvvvvveee my Kindle2. ...  \n",
       "4   Reading my kindle2...  Love it... Lee childs i...  \n",
       "5   Ok, first assesment of the #kindle2 ...it fuck...  \n",
       "6   @kenburbary You'll love your Kindle2. I've had...  \n",
       "7   @mikefish  Fair enough. But i have the Kindle2...  "
      ]
     },
     "execution_count": 30,
     "metadata": {},
     "output_type": "execute_result"
    }
   ],
   "source": [
    "memes.head()"
   ]
  },
  {
   "cell_type": "code",
   "execution_count": 16,
   "metadata": {},
   "outputs": [
    {
     "name": "stdout",
     "output_type": "stream",
     "text": [
      "<class 'pandas.core.frame.DataFrame'>\n",
      "Int64Index: 498 entries, 3 to 14076\n",
      "Data columns (total 5 columns):\n",
      "target    498 non-null int64\n",
      "data      498 non-null object\n",
      "query     498 non-null object\n",
      "user      498 non-null object\n",
      "text      498 non-null object\n",
      "dtypes: int64(1), object(4)\n",
      "memory usage: 23.3+ KB\n"
     ]
    }
   ],
   "source": [
    "memes.info()"
   ]
  },
  {
   "cell_type": "code",
   "execution_count": 17,
   "metadata": {},
   "outputs": [
    {
     "name": "stdout",
     "output_type": "stream",
     "text": [
      "<class 'pandas.core.frame.DataFrame'>\n",
      "Int64Index: 498 entries, 3 to 14076\n",
      "Data columns (total 5 columns):\n",
      "target    498 non-null int64\n",
      "data      498 non-null object\n",
      "query     498 non-null object\n",
      "user      498 non-null object\n",
      "text      498 non-null object\n",
      "dtypes: int64(1), object(4)\n",
      "memory usage: 23.3+ KB\n"
     ]
    }
   ],
   "source": [
    "memes.info()"
   ]
  },
  {
   "cell_type": "code",
   "execution_count": 18,
   "metadata": {},
   "outputs": [
    {
     "data": {
      "text/html": [
       "<div>\n",
       "<style scoped>\n",
       "    .dataframe tbody tr th:only-of-type {\n",
       "        vertical-align: middle;\n",
       "    }\n",
       "\n",
       "    .dataframe tbody tr th {\n",
       "        vertical-align: top;\n",
       "    }\n",
       "\n",
       "    .dataframe thead th {\n",
       "        text-align: right;\n",
       "    }\n",
       "</style>\n",
       "<table border=\"1\" class=\"dataframe\">\n",
       "  <thead>\n",
       "    <tr style=\"text-align: right;\">\n",
       "      <th></th>\n",
       "      <th>target</th>\n",
       "      <th>data</th>\n",
       "      <th>query</th>\n",
       "      <th>user</th>\n",
       "      <th>text</th>\n",
       "    </tr>\n",
       "    <tr>\n",
       "      <th>id</th>\n",
       "      <th></th>\n",
       "      <th></th>\n",
       "      <th></th>\n",
       "      <th></th>\n",
       "      <th></th>\n",
       "    </tr>\n",
       "  </thead>\n",
       "  <tbody>\n",
       "    <tr>\n",
       "      <th>14074</th>\n",
       "      <td>4</td>\n",
       "      <td>Sun Jun 14 04:36:34 UTC 2009</td>\n",
       "      <td>latex</td>\n",
       "      <td>iamtheonlyjosie</td>\n",
       "      <td>Ahhh... back in a *real* text editing environm...</td>\n",
       "    </tr>\n",
       "    <tr>\n",
       "      <th>14075</th>\n",
       "      <td>0</td>\n",
       "      <td>Sun Jun 14 21:36:07 UTC 2009</td>\n",
       "      <td>iran</td>\n",
       "      <td>plutopup7</td>\n",
       "      <td>Trouble in Iran, I see. Hmm. Iran. Iran so far...</td>\n",
       "    </tr>\n",
       "    <tr>\n",
       "      <th>14076</th>\n",
       "      <td>0</td>\n",
       "      <td>Sun Jun 14 21:36:17 UTC 2009</td>\n",
       "      <td>iran</td>\n",
       "      <td>captain_pete</td>\n",
       "      <td>Reading the tweets coming out of Iran... The w...</td>\n",
       "    </tr>\n",
       "  </tbody>\n",
       "</table>\n",
       "</div>"
      ],
      "text/plain": [
       "       target                          data  query             user  \\\n",
       "id                                                                    \n",
       "14074       4  Sun Jun 14 04:36:34 UTC 2009  latex  iamtheonlyjosie   \n",
       "14075       0  Sun Jun 14 21:36:07 UTC 2009   iran        plutopup7   \n",
       "14076       0  Sun Jun 14 21:36:17 UTC 2009   iran     captain_pete   \n",
       "\n",
       "                                                    text  \n",
       "id                                                        \n",
       "14074  Ahhh... back in a *real* text editing environm...  \n",
       "14075  Trouble in Iran, I see. Hmm. Iran. Iran so far...  \n",
       "14076  Reading the tweets coming out of Iran... The w...  "
      ]
     },
     "execution_count": 18,
     "metadata": {},
     "output_type": "execute_result"
    }
   ],
   "source": [
    "memes.tail(3)"
   ]
  },
  {
   "cell_type": "markdown",
   "metadata": {},
   "source": [
    "# Время добавления\n",
    "\n",
    "Так как в нашем распоряжении есть чудесная переменная `added`, то можно поиграться с ней, преобразовав в понятный питону формат и повытаскивая из него час, день недели и месяца, месяц и год добавления"
   ]
  },
  {
   "cell_type": "code",
   "execution_count": 72,
   "metadata": {
    "collapsed": true
   },
   "outputs": [],
   "source": [
    "memes['Timestamp'] = pd.to_datetime(memes['data'])"
   ]
  },
  {
   "cell_type": "code",
   "execution_count": 20,
   "metadata": {
    "collapsed": true
   },
   "outputs": [],
   "source": [
    "memes['Year'] = memes.Timestamp.apply(lambda x: x.year)\n",
    "memes['Month'] = memes.Timestamp.apply(lambda x: x.month)\n",
    "memes['Day'] = memes.Timestamp.apply(lambda x: x.day)\n",
    "memes['Hour'] = memes.Timestamp.apply(lambda x: x.hour)\n",
    "memes['Weekday'] = memes.Timestamp.apply(lambda x: x.weekday())"
   ]
  },
  {
   "cell_type": "code",
   "execution_count": 21,
   "metadata": {},
   "outputs": [
    {
     "data": {
      "text/html": [
       "<div>\n",
       "<style scoped>\n",
       "    .dataframe tbody tr th:only-of-type {\n",
       "        vertical-align: middle;\n",
       "    }\n",
       "\n",
       "    .dataframe tbody tr th {\n",
       "        vertical-align: top;\n",
       "    }\n",
       "\n",
       "    .dataframe thead th {\n",
       "        text-align: right;\n",
       "    }\n",
       "</style>\n",
       "<table border=\"1\" class=\"dataframe\">\n",
       "  <thead>\n",
       "    <tr style=\"text-align: right;\">\n",
       "      <th></th>\n",
       "      <th>target</th>\n",
       "      <th>data</th>\n",
       "      <th>query</th>\n",
       "      <th>user</th>\n",
       "      <th>text</th>\n",
       "      <th>Timestamp</th>\n",
       "      <th>Year</th>\n",
       "      <th>Month</th>\n",
       "      <th>Day</th>\n",
       "      <th>Hour</th>\n",
       "      <th>Weekday</th>\n",
       "    </tr>\n",
       "    <tr>\n",
       "      <th>id</th>\n",
       "      <th></th>\n",
       "      <th></th>\n",
       "      <th></th>\n",
       "      <th></th>\n",
       "      <th></th>\n",
       "      <th></th>\n",
       "      <th></th>\n",
       "      <th></th>\n",
       "      <th></th>\n",
       "      <th></th>\n",
       "      <th></th>\n",
       "    </tr>\n",
       "  </thead>\n",
       "  <tbody>\n",
       "    <tr>\n",
       "      <th>3</th>\n",
       "      <td>4</td>\n",
       "      <td>Mon May 11 03:17:40 UTC 2009</td>\n",
       "      <td>kindle2</td>\n",
       "      <td>tpryan</td>\n",
       "      <td>@stellargirl I loooooooovvvvvveee my Kindle2. ...</td>\n",
       "      <td>2009-05-11 03:17:40+00:00</td>\n",
       "      <td>2009</td>\n",
       "      <td>5</td>\n",
       "      <td>11</td>\n",
       "      <td>3</td>\n",
       "      <td>0</td>\n",
       "    </tr>\n",
       "    <tr>\n",
       "      <th>4</th>\n",
       "      <td>4</td>\n",
       "      <td>Mon May 11 03:18:03 UTC 2009</td>\n",
       "      <td>kindle2</td>\n",
       "      <td>vcu451</td>\n",
       "      <td>Reading my kindle2...  Love it... Lee childs i...</td>\n",
       "      <td>2009-05-11 03:18:03+00:00</td>\n",
       "      <td>2009</td>\n",
       "      <td>5</td>\n",
       "      <td>11</td>\n",
       "      <td>3</td>\n",
       "      <td>0</td>\n",
       "    </tr>\n",
       "    <tr>\n",
       "      <th>5</th>\n",
       "      <td>4</td>\n",
       "      <td>Mon May 11 03:18:54 UTC 2009</td>\n",
       "      <td>kindle2</td>\n",
       "      <td>chadfu</td>\n",
       "      <td>Ok, first assesment of the #kindle2 ...it fuck...</td>\n",
       "      <td>2009-05-11 03:18:54+00:00</td>\n",
       "      <td>2009</td>\n",
       "      <td>5</td>\n",
       "      <td>11</td>\n",
       "      <td>3</td>\n",
       "      <td>0</td>\n",
       "    </tr>\n",
       "    <tr>\n",
       "      <th>6</th>\n",
       "      <td>4</td>\n",
       "      <td>Mon May 11 03:19:04 UTC 2009</td>\n",
       "      <td>kindle2</td>\n",
       "      <td>SIX15</td>\n",
       "      <td>@kenburbary You'll love your Kindle2. I've had...</td>\n",
       "      <td>2009-05-11 03:19:04+00:00</td>\n",
       "      <td>2009</td>\n",
       "      <td>5</td>\n",
       "      <td>11</td>\n",
       "      <td>3</td>\n",
       "      <td>0</td>\n",
       "    </tr>\n",
       "    <tr>\n",
       "      <th>7</th>\n",
       "      <td>4</td>\n",
       "      <td>Mon May 11 03:21:41 UTC 2009</td>\n",
       "      <td>kindle2</td>\n",
       "      <td>yamarama</td>\n",
       "      <td>@mikefish  Fair enough. But i have the Kindle2...</td>\n",
       "      <td>2009-05-11 03:21:41+00:00</td>\n",
       "      <td>2009</td>\n",
       "      <td>5</td>\n",
       "      <td>11</td>\n",
       "      <td>3</td>\n",
       "      <td>0</td>\n",
       "    </tr>\n",
       "  </tbody>\n",
       "</table>\n",
       "</div>"
      ],
      "text/plain": [
       "    target                          data    query      user  \\\n",
       "id                                                            \n",
       "3        4  Mon May 11 03:17:40 UTC 2009  kindle2    tpryan   \n",
       "4        4  Mon May 11 03:18:03 UTC 2009  kindle2    vcu451   \n",
       "5        4  Mon May 11 03:18:54 UTC 2009  kindle2    chadfu   \n",
       "6        4  Mon May 11 03:19:04 UTC 2009  kindle2     SIX15   \n",
       "7        4  Mon May 11 03:21:41 UTC 2009  kindle2  yamarama   \n",
       "\n",
       "                                                 text  \\\n",
       "id                                                      \n",
       "3   @stellargirl I loooooooovvvvvveee my Kindle2. ...   \n",
       "4   Reading my kindle2...  Love it... Lee childs i...   \n",
       "5   Ok, first assesment of the #kindle2 ...it fuck...   \n",
       "6   @kenburbary You'll love your Kindle2. I've had...   \n",
       "7   @mikefish  Fair enough. But i have the Kindle2...   \n",
       "\n",
       "                   Timestamp  Year  Month  Day  Hour  Weekday  \n",
       "id                                                             \n",
       "3  2009-05-11 03:17:40+00:00  2009      5   11     3        0  \n",
       "4  2009-05-11 03:18:03+00:00  2009      5   11     3        0  \n",
       "5  2009-05-11 03:18:54+00:00  2009      5   11     3        0  \n",
       "6  2009-05-11 03:19:04+00:00  2009      5   11     3        0  \n",
       "7  2009-05-11 03:21:41+00:00  2009      5   11     3        0  "
      ]
     },
     "execution_count": 21,
     "metadata": {},
     "output_type": "execute_result"
    }
   ],
   "source": [
    "memes.head()"
   ]
  },
  {
   "cell_type": "markdown",
   "metadata": {},
   "source": [
    "Также пригодится переменная, отвечающая за число дней, прошедших с момента добавления мема на сайт"
   ]
  },
  {
   "cell_type": "code",
   "execution_count": 22,
   "metadata": {
    "collapsed": true
   },
   "outputs": [],
   "source": [
    "memes['days_from_creation'] = (memes.Timestamp.max() - memes.Timestamp)/np.timedelta64(1, 'D')"
   ]
  },
  {
   "cell_type": "markdown",
   "metadata": {},
   "source": [
    "А теперь для наших созданных переменных построим несколько гистограмм"
   ]
  },
  {
   "cell_type": "code",
   "execution_count": 23,
   "metadata": {},
   "outputs": [
    {
     "data": {
      "image/png": "[encoded data removed]",
      "text/plain": [
       "<Figure size 1080x720 with 4 Axes>"
      ]
     },
     "metadata": {},
     "output_type": "display_data"
    }
   ],
   "source": [
    "index =0 \n",
    "f, axarr = plt.subplots(2, 2, figsize=(15,10))\n",
    "times = ['Month', 'Day', 'Hour', 'Weekday']\n",
    "bins = [12, 31, 24, 7]\n",
    "index = 0\n",
    "for i in range(2):\n",
    "    for j in range(2):\n",
    "        axarr[i, j].hist(memes[times[index]], bins = bins[index])\n",
    "        axarr[i, j].set_title('Histogram of {}'.format(times[index]))\n",
    "        index += 1\n",
    "\n",
    "f.subplots_adjust(hspace=0.2)"
   ]
  },
  {
   "cell_type": "markdown",
   "metadata": {},
   "source": [
    "Итак, что тут есть интересного:\n",
    "- День ничего необычного не принес, распределено достаточно равномерно\n",
    "- Гистограмма часа достаточно показательная - в ночной период активность значительно снижается, а затем растет, достигая пика примерно после окончания уроков у основной аудитории\n",
    "- По дням недели есть заметное снижения на выходных, интересно, почему бы это"
   ]
  },
  {
   "cell_type": "code",
   "execution_count": 24,
   "metadata": {},
   "outputs": [
    {
     "data": {
      "image/png": "[encoded data removed]",
      "text/plain": [
       "<Figure size 720x360 with 1 Axes>"
      ]
     },
     "metadata": {},
     "output_type": "display_data"
    }
   ],
   "source": [
    "memes.Year.value_counts().plot(kind='bar', figsize=(10, 5))\n",
    "plt.title(\"Histogram of year\")\n",
    "plt.show()"
   ]
  },
  {
   "cell_type": "code",
   "execution_count": 16,
   "metadata": {},
   "outputs": [
    {
     "data": {
      "text/plain": [
       "2019    27.41%\n",
       "2018    15.93%\n",
       "2017    11.70%\n",
       "2016     9.77%\n",
       "2015     7.66%\n",
       "2014     6.92%\n",
       "2011     5.37%\n",
       "2012     5.33%\n",
       "2010     4.97%\n",
       "2013     4.33%\n",
       "2009     0.62%\n",
       "Name: Year, dtype: object"
      ]
     },
     "execution_count": 16,
     "metadata": {},
     "output_type": "execute_result"
    }
   ],
   "source": [
    "memes.Year.value_counts(normalize=True).apply(lambda x: \"{:.2f}%\".format(x*100))"
   ]
  },
  {
   "cell_type": "code",
   "execution_count": 25,
   "metadata": {},
   "outputs": [
    {
     "data": {
      "text/plain": [
       "(array([177.,   0.,   0.,   0.,   0., 139.,   0.,   0.,   0., 182.]),\n",
       " array([0. , 0.4, 0.8, 1.2, 1.6, 2. , 2.4, 2.8, 3.2, 3.6, 4. ]),\n",
       " <a list of 10 Patch objects>)"
      ]
     },
     "execution_count": 25,
     "metadata": {},
     "output_type": "execute_result"
    },
    {
     "data": {
      "image/png": "[encoded data removed]",
      "text/plain": [
       "<Figure size 432x288 with 1 Axes>"
      ]
     },
     "metadata": {},
     "output_type": "display_data"
    }
   ],
   "source": [
    "plt.hist(memes.target)\n",
    "#plt.title(\"Hist of log average views\");"
   ]
  },
  {
   "cell_type": "markdown",
   "metadata": {},
   "source": [
    "# ML"
   ]
  },
  {
   "cell_type": "code",
   "execution_count": 26,
   "metadata": {
    "collapsed": true
   },
   "outputs": [],
   "source": [
    "import nltk\n",
    "from nltk.corpus import stopwords"
   ]
  },
  {
   "cell_type": "code",
   "execution_count": 27,
   "metadata": {
    "collapsed": true
   },
   "outputs": [],
   "source": [
    "stop = stopwords.words('english')\n",
    "stemmer = nltk.stem.snowball.EnglishStemmer('english')\n",
    "\n",
    "def data_Stemmer(text):\n",
    "    return ' '.join([stemmer.stem(word) for word in text.split(' ') if word not in stop])"
   ]
  },
  {
   "cell_type": "code",
   "execution_count": 39,
   "metadata": {
    "collapsed": true
   },
   "outputs": [],
   "source": [
    "#memes[\"description\"] = memes.tags.fillna(\"\")+' '+\\\n",
    "                       memes.about.fillna(\"\")+' '+\\\n",
    "                       memes.origin.fillna(\"\")+' '+\\\n",
    "                       memes.other_text.fillna(\"\")"
   ]
  },
  {
   "cell_type": "code",
   "execution_count": 31,
   "metadata": {
    "collapsed": true
   },
   "outputs": [],
   "source": [
    "memes.description = memes.description.apply(lambda x: x.lower().replace('unknown', ''))"
   ]
  },
  {
   "cell_type": "code",
   "execution_count": 33,
   "metadata": {},
   "outputs": [
    {
     "data": {
      "text/plain": [
       "'reading my kindle2...  love it... lee childs is good read.'"
      ]
     },
     "execution_count": 33,
     "metadata": {},
     "output_type": "execute_result"
    }
   ],
   "source": [
    "memes.description[4]"
   ]
  },
  {
   "cell_type": "code",
   "execution_count": 34,
   "metadata": {},
   "outputs": [
    {
     "data": {
      "text/plain": [
       "'read kindle2...  love it... lee child good read.'"
      ]
     },
     "execution_count": 34,
     "metadata": {},
     "output_type": "execute_result"
    }
   ],
   "source": [
    "data_Stemmer(memes.description[4])"
   ]
  },
  {
   "cell_type": "code",
   "execution_count": 35,
   "metadata": {
    "collapsed": true
   },
   "outputs": [],
   "source": [
    "memes.description = memes.description.apply(lambda x: data_Stemmer(x))"
   ]
  },
  {
   "cell_type": "code",
   "execution_count": 73,
   "metadata": {
    "collapsed": true
   },
   "outputs": [],
   "source": [
    "X = memes.description\n",
    "y = memes.target"
   ]
  },
  {
   "cell_type": "markdown",
   "metadata": {},
   "source": [
    "Для TF-IDF попробуем использовать биграммы, а чтобы словарь не раздувался до неадекватных размеров, ограничим минимальную частоты содержания слов в документах 0.1%. То есть будем выкидывать такие слова и биграммы, которые встречаются реже, чем в 0.1% документов. "
   ]
  },
  {
   "cell_type": "code",
   "execution_count": 74,
   "metadata": {
    "collapsed": true
   },
   "outputs": [],
   "source": [
    "from sklearn.feature_extraction.text import TfidfVectorizer\n",
    "tf_vectorizer = TfidfVectorizer(stop_words=stop, ngram_range=(1, 2), min_df=0.001, norm=None)"
   ]
  },
  {
   "cell_type": "code",
   "execution_count": 76,
   "metadata": {
    "collapsed": true
   },
   "outputs": [],
   "source": [
    "Xtr, Xval, ytr, yval = train_test_split(X, y, test_size=0.30, random_state=42)"
   ]
  },
  {
   "cell_type": "code",
   "execution_count": 77,
   "metadata": {},
   "outputs": [
    {
     "data": {
      "text/plain": [
       "((348, 4226), (150, 4226))"
      ]
     },
     "execution_count": 77,
     "metadata": {},
     "output_type": "execute_result"
    }
   ],
   "source": [
    "Xtr_tfidf = tf_vectorizer.fit_transform(Xtr)\n",
    "Xval_tfidf = tf_vectorizer.transform(Xval)\n",
    "Xtr_tfidf.shape, Xval_tfidf.shape"
   ]
  },
  {
   "cell_type": "markdown",
   "metadata": {},
   "source": [
    "Целевую переменную (среднее число просмотров в день), разделим на пять групп по квантилям, одновременно получая наивный baseline - если мы всем объектам примишем один класс, то итоговая точность составит 1/5 = 20%. Еще один плюс подхода - дисбаланса классов у нас точно не будет :)"
   ]
  },
  {
   "cell_type": "code",
   "execution_count": 78,
   "metadata": {},
   "outputs": [],
   "source": [
    "#ytr_quantile = pd.qcut(ytr, q=5)"
   ]
  },
  {
   "cell_type": "code",
   "execution_count": 79,
   "metadata": {},
   "outputs": [],
   "source": [
    "#ytr_quantile.value_counts()"
   ]
  },
  {
   "cell_type": "markdown",
   "metadata": {},
   "source": [
    "Для будущих нужд запомним имеющиеся интервалы"
   ]
  },
  {
   "cell_type": "code",
   "execution_count": 80,
   "metadata": {
    "collapsed": true
   },
   "outputs": [],
   "source": [
    "#intervals = ytr_quantile.unique().categories.get_values()"
   ]
  },
  {
   "cell_type": "code",
   "execution_count": 81,
   "metadata": {},
   "outputs": [],
   "source": [
    "#intervals"
   ]
  },
  {
   "cell_type": "markdown",
   "metadata": {},
   "source": [
    "Так как на тестовой выборке мы аналогичное преобразование с квантильным разбиением выполнить не можем (группы не будут совпадать), запишем функцию для преобразования тестовых значений "
   ]
  },
  {
   "cell_type": "code",
   "execution_count": 82,
   "metadata": {},
   "outputs": [
    {
     "data": {
      "text/plain": [
       "'\\ndef quantile(y):\\n    for interval in intervals:\\n        if y<=interval.right:\\n            return interval\\n            break\\n    return interval\\n    '"
      ]
     },
     "execution_count": 82,
     "metadata": {},
     "output_type": "execute_result"
    }
   ],
   "source": [
    "\"\"\"\n",
    "def quantile(y):\n",
    "    for interval in intervals:\n",
    "        if y<=interval.right:\n",
    "            return interval\n",
    "            break\n",
    "    return interval\n",
    "    \"\"\""
   ]
  },
  {
   "cell_type": "code",
   "execution_count": 83,
   "metadata": {
    "collapsed": true
   },
   "outputs": [],
   "source": [
    "#yval_quantile = yval.apply(quantile)"
   ]
  },
  {
   "cell_type": "code",
   "execution_count": 84,
   "metadata": {},
   "outputs": [],
   "source": [
    "#yval_quantile.value_counts()"
   ]
  },
  {
   "cell_type": "markdown",
   "metadata": {},
   "source": [
    "Наконец, для обучения закодируем интервалы при помощи `LabelEncoder()`"
   ]
  },
  {
   "cell_type": "code",
   "execution_count": 85,
   "metadata": {
    "collapsed": true
   },
   "outputs": [],
   "source": [
    "#le = LabelEncoder()"
   ]
  },
  {
   "cell_type": "code",
   "execution_count": 86,
   "metadata": {
    "collapsed": true
   },
   "outputs": [],
   "source": [
    "#ytr_quantile = le.fit_transform(ytr_quantile)\n",
    "#yval_quantile = le.transform(yval_quantile)"
   ]
  },
  {
   "cell_type": "code",
   "execution_count": 87,
   "metadata": {},
   "outputs": [],
   "source": [
    "#ytr_quantile"
   ]
  },
  {
   "cell_type": "code",
   "execution_count": 88,
   "metadata": {},
   "outputs": [],
   "source": [
    "#le.inverse_transform(ytr_quantile)"
   ]
  },
  {
   "cell_type": "code",
   "execution_count": 89,
   "metadata": {
    "collapsed": true
   },
   "outputs": [],
   "source": [
    "from sklearn.linear_model import SGDClassifier, LogisticRegressionCV"
   ]
  },
  {
   "cell_type": "code",
   "execution_count": 90,
   "metadata": {
    "collapsed": true
   },
   "outputs": [],
   "source": [
    "logit_sgd = SGDClassifier(\n",
    "    loss='log', \n",
    "    shuffle=True, \n",
    "    n_iter_no_change=10, \n",
    "    max_iter=500, \n",
    "    penalty='l2', \n",
    "    random_state=42\n",
    ")"
   ]
  },
  {
   "cell_type": "code",
   "execution_count": 91,
   "metadata": {},
   "outputs": [
    {
     "name": "stdout",
     "output_type": "stream",
     "text": [
      "1.0\n",
      "0.6533333333333333\n",
      "              precision    recall  f1-score   support\n",
      "\n",
      "           0       0.65      0.60      0.62        47\n",
      "           2       0.54      0.76      0.63        34\n",
      "           4       0.75      0.64      0.69        69\n",
      "\n",
      "    accuracy                           0.65       150\n",
      "   macro avg       0.65      0.67      0.65       150\n",
      "weighted avg       0.67      0.65      0.65       150\n",
      "\n"
     ]
    }
   ],
   "source": [
    "logit_sgd.fit(Xtr_tfidf, ytr)\n",
    "\n",
    "print(accuracy_score(logit_sgd.predict(Xtr_tfidf), ytr))\n",
    "print(accuracy_score(logit_sgd.predict(Xval_tfidf), yval))\n",
    "\n",
    "print(classification_report(logit_sgd.predict(Xval_tfidf), yval))"
   ]
  },
  {
   "cell_type": "code",
   "execution_count": 92,
   "metadata": {},
   "outputs": [
    {
     "data": {
      "text/plain": [
       "LogisticRegressionCV(Cs=10, class_weight=None, cv=None, dual=False,\n",
       "                     fit_intercept=True, intercept_scaling=1.0, l1_ratios=None,\n",
       "                     max_iter=100, multi_class='auto', n_jobs=-1, penalty='l2',\n",
       "                     random_state=None, refit=True, scoring=None,\n",
       "                     solver='lbfgs', tol=0.0001, verbose=0)"
      ]
     },
     "execution_count": 92,
     "metadata": {},
     "output_type": "execute_result"
    }
   ],
   "source": [
    "logit_cv = LogisticRegressionCV(Cs=10, n_jobs=-1)\n",
    "logit_cv.fit(Xtr_tfidf, ytr)"
   ]
  },
  {
   "cell_type": "code",
   "execution_count": 93,
   "metadata": {},
   "outputs": [
    {
     "name": "stdout",
     "output_type": "stream",
     "text": [
      "1.0\n",
      "0.6466666666666666\n",
      "              precision    recall  f1-score   support\n",
      "\n",
      "           0       0.63      0.59      0.61        46\n",
      "           2       0.56      0.79      0.66        34\n",
      "           4       0.73      0.61      0.67        70\n",
      "\n",
      "    accuracy                           0.65       150\n",
      "   macro avg       0.64      0.67      0.64       150\n",
      "weighted avg       0.66      0.65      0.65       150\n",
      "\n"
     ]
    }
   ],
   "source": [
    "print(accuracy_score(logit_cv.predict(Xtr_tfidf), ytr))\n",
    "print(accuracy_score(logit_cv.predict(Xval_tfidf), yval))\n",
    "\n",
    "print(classification_report(logit_cv.predict(Xval_tfidf), yval))"
   ]
  },
  {
   "cell_type": "code",
   "execution_count": 101,
   "metadata": {
    "collapsed": true
   },
   "outputs": [],
   "source": [
    "def visualize_coefficients(coef, feature_names, title, plot_num, n_top_features=10):\n",
    "    interesting_coefficients = np.argsort(coef)[-n_top_features:]\n",
    "    \n",
    "    plt.figure(figsize=(15, 15))\n",
    "    plt.subplot(510+plot_num+1)\n",
    "    colors = [\"lightblue\" for c in coef[interesting_coefficients]]\n",
    "    plt.bar(np.arange(n_top_features), coef[interesting_coefficients], color=colors)\n",
    "    feature_names = np.array(feature_names)\n",
    "    plt.xticks(np.arange(1, 1 + n_top_features), \n",
    "               feature_names[interesting_coefficients], rotation=60, ha=\"right\", fontsize=14);\n",
    "    plt.title(title)"
   ]
  },
  {
   "cell_type": "code",
   "execution_count": 95,
   "metadata": {},
   "outputs": [
    {
     "data": {
      "text/plain": [
       "array([[-1.04955284e+001, -1.04955284e+001, -1.04955284e+001, ...,\n",
       "        -2.80431784e-105, -2.70065562e-050, -2.70065562e-050],\n",
       "       [ 1.04955284e+001,  1.04955284e+001,  1.04955284e+001, ...,\n",
       "         4.04335843e-094, -7.46867645e-077, -7.46867645e-077],\n",
       "       [-4.12551720e+000, -4.12551720e+000, -9.90822438e+000, ...,\n",
       "        -3.71774931e-078,  3.43608172e-057,  3.43608172e-057]])"
      ]
     },
     "execution_count": 95,
     "metadata": {},
     "output_type": "execute_result"
    }
   ],
   "source": [
    "logit_sgd.coef_"
   ]
  },
  {
   "cell_type": "markdown",
   "metadata": {},
   "source": [
    "На графиках отображены по топ-25 слов, которые (по мнению логистической регресии), наиболее сильно увеличивают вероятность попадания в соответствующий класс популярности"
   ]
  },
  {
   "cell_type": "code",
   "execution_count": 115,
   "metadata": {},
   "outputs": [
    {
     "data": {
      "image/png": "[encoded data removed]",
      "text/plain": [
       "<Figure size 1080x1080 with 1 Axes>"
      ]
     },
     "metadata": {},
     "output_type": "display_data"
    },
    {
     "data": {
      "image/png": "[encoded data removed]",
      "text/plain": [
       "<Figure size 1080x1080 with 1 Axes>"
      ]
     },
     "metadata": {},
     "output_type": "display_data"
    },
    {
     "data": {
      "image/png": "[encoded data removed]",
      "text/plain": [
       "<Figure size 1080x1080 with 1 Axes>"
      ]
     },
     "metadata": {},
     "output_type": "display_data"
    }
   ],
   "source": [
    "#titles = [\"Very sad\", \"Sad\",  'Average','Happy', 'Very happy']\n",
    "titles = [\"Sad\",  'Average','Happy']\n",
    "#\"Unpopular\",\n",
    "# 'Popular', \n",
    "for i in range(3):\n",
    "    visualize_coefficients(logit_sgd.coef_[i,:], tf_vectorizer.get_feature_names(), \n",
    "                      title=titles[i], \n",
    "                           plot_num=i, n_top_features=15)\n",
    "                          "
   ]
  },
  {
   "cell_type": "code",
   "execution_count": 111,
   "metadata": {},
   "outputs": [
    {
     "ename": "IndexError",
     "evalue": "index 3 is out of bounds for axis 0 with size 3",
     "output_type": "error",
     "traceback": [
      "\u001b[1;31m---------------------------------------------------------------------------\u001b[0m",
      "\u001b[1;31mIndexError\u001b[0m                                Traceback (most recent call last)",
      "\u001b[1;32m<ipython-input-111-1f18ff2e486a>\u001b[0m in \u001b[0;36m<module>\u001b[1;34m()\u001b[0m\n\u001b[0;32m      1\u001b[0m \u001b[0mi\u001b[0m\u001b[1;33m=\u001b[0m\u001b[1;36m3\u001b[0m\u001b[1;33m\u001b[0m\u001b[1;33m\u001b[0m\u001b[0m\n\u001b[1;32m----> 2\u001b[1;33m \u001b[0mvisualize_coefficients\u001b[0m\u001b[1;33m(\u001b[0m\u001b[0mlogit_sgd\u001b[0m\u001b[1;33m.\u001b[0m\u001b[0mcoef_\u001b[0m\u001b[1;33m[\u001b[0m\u001b[0mi\u001b[0m\u001b[1;33m,\u001b[0m\u001b[1;33m:\u001b[0m\u001b[1;33m]\u001b[0m\u001b[1;33m,\u001b[0m \u001b[0mtf_vectorizer\u001b[0m\u001b[1;33m.\u001b[0m\u001b[0mget_feature_names\u001b[0m\u001b[1;33m(\u001b[0m\u001b[1;33m)\u001b[0m\u001b[1;33m,\u001b[0m \u001b[0mtitle\u001b[0m\u001b[1;33m=\u001b[0m\u001b[0mtitles\u001b[0m\u001b[1;33m[\u001b[0m\u001b[0mi\u001b[0m\u001b[1;33m]\u001b[0m\u001b[1;33m,\u001b[0m \u001b[0mplot_num\u001b[0m\u001b[1;33m=\u001b[0m\u001b[0mi\u001b[0m\u001b[1;33m,\u001b[0m \u001b[0mn_top_features\u001b[0m\u001b[1;33m=\u001b[0m\u001b[1;36m15\u001b[0m\u001b[1;33m)\u001b[0m\u001b[1;33m\u001b[0m\u001b[1;33m\u001b[0m\u001b[0m\n\u001b[0m",
      "\u001b[1;31mIndexError\u001b[0m: index 3 is out of bounds for axis 0 with size 3"
     ]
    }
   ],
   "source": [
    "i=3\n",
    "visualize_coefficients(logit_sgd.coef_[i,:], tf_vectorizer.get_feature_names(), title=titles[i], plot_num=i, n_top_features=15)"
   ]
  },
  {
   "cell_type": "code",
   "execution_count": null,
   "metadata": {},
   "outputs": [],
   "source": [
    "plt.hist(np.max(logit_cv.predict_proba(Xval_tfidf), axis=1));"
   ]
  },
  {
   "cell_type": "code",
   "execution_count": null,
   "metadata": {
    "collapsed": true
   },
   "outputs": [],
   "source": [
    "predictions = logit_sgd.predict(Xval_tfidf)\n",
    "certainty_mask = np.max(logit_sgd.predict_proba(Xval_tfidf), axis=1)>0.6"
   ]
  },
  {
   "cell_type": "code",
   "execution_count": null,
   "metadata": {
    "scrolled": false
   },
   "outputs": [],
   "source": [
    "'''\n",
    "meme_slice = memes.loc[Xval.index[certainty_mask]]\n",
    "meme_slice['actual_popularity'] = le.inverse_transform(predictions[certainty_mask])\n",
    "'''"
   ]
  },
  {
   "cell_type": "code",
   "execution_count": null,
   "metadata": {},
   "outputs": [],
   "source": [
    "'''\n",
    "meme_slice[\n",
    "    ['name', 'origin_year', 'date_added', 'views', 'description', 'average_views', 'actual_popularity']\n",
    "].sort_values(by='views', ascending=False)'''"
   ]
  },
  {
   "cell_type": "markdown",
   "metadata": {},
   "source": [
    "### А теперь можно взглянуть на confusion matrix и посмотреть, где же косячат модели"
   ]
  },
  {
   "cell_type": "code",
   "execution_count": null,
   "metadata": {
    "collapsed": true
   },
   "outputs": [],
   "source": [
    "def plot_confusion(predictions, yval, title):\n",
    "    array = confusion_matrix(yval, predictions)\n",
    "    df_cm = pd.DataFrame(array, index = [i for i in titles],\n",
    "                      columns = [i for i in titles])\n",
    "    plt.figure(figsize = (7,7))\n",
    "    sn.heatmap(df_cm, annot=True, fmt='g', cbar=False)\n",
    "    plt.title(title);"
   ]
  },
  {
   "cell_type": "code",
   "execution_count": null,
   "metadata": {},
   "outputs": [],
   "source": [
    "plot_confusion(logit_sgd.predict(Xval_tfidf), yval, \"Logit regression\")"
   ]
  },
  {
   "cell_type": "code",
   "execution_count": null,
   "metadata": {},
   "outputs": [],
   "source": [
    "plot_confusion(logit_cv.predict(Xval_tfidf), yval_quantile, \"Logit regression\")"
   ]
  },
  {
   "cell_type": "code",
   "execution_count": 114,
   "metadata": {},
   "outputs": [
    {
     "data": {
      "text/plain": [
       "array([4, 0, 2], dtype=int64)"
      ]
     },
     "execution_count": 114,
     "metadata": {},
     "output_type": "execute_result"
    }
   ],
   "source": [
    "y.unique()"
   ]
  },
  {
   "cell_type": "code",
   "execution_count": null,
   "metadata": {
    "collapsed": true
   },
   "outputs": [],
   "source": []
  }
 ],
 "metadata": {
  "anaconda-cloud": {},
  "kernelspec": {
   "display_name": "Python 3",
   "language": "python",
   "name": "python3"
  },
  "language_info": {
   "codemirror_mode": {
    "name": "ipython",
    "version": 3
   },
   "file_extension": ".py",
   "mimetype": "text/x-python",
   "name": "python",
   "nbconvert_exporter": "python",
   "pygments_lexer": "ipython3",
   "version": "3.6.10"
  },
  "varInspector": {
   "cols": {
    "lenName": 16,
    "lenType": 16,
    "lenVar": 40
   },
   "kernels_config": {
    "python": {
     "delete_cmd_postfix": "",
     "delete_cmd_prefix": "del ",
     "library": "var_list.py",
     "varRefreshCmd": "print(var_dic_list())"
    },
    "r": {
     "delete_cmd_postfix": ") ",
     "delete_cmd_prefix": "rm(",
     "library": "var_list.r",
     "varRefreshCmd": "cat(var_dic_list()) "
    }
   },
   "types_to_exclude": [
    "module",
    "function",
    "builtin_function_or_method",
    "instance",
    "_Feature"
   ],
   "window_display": false
  }
 },
 "nbformat": 4,
 "nbformat_minor": 1
}
